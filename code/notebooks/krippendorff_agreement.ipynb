{
 "cells": [
  {
   "cell_type": "code",
   "execution_count": 2,
   "metadata": {},
   "outputs": [],
   "source": [
    "import numpy as np\n",
    "\n",
    "import krippendorff"
   ]
  },
  {
   "attachments": {},
   "cell_type": "markdown",
   "metadata": {},
   "source": [
    "## English"
   ]
  },
  {
   "cell_type": "code",
   "execution_count": 9,
   "metadata": {},
   "outputs": [
    {
     "name": "stdout",
     "output_type": "stream",
     "text": [
      "Krippendorff's alpha for ordinal metric:  0.7995784782165465\n"
     ]
    }
   ],
   "source": [
    "reliability_data_en = (\n",
    "    \"5\t5\t5\t4\t3\t4\t4\t5\t5\t5\t5\t5\t5\t5\t4\t5\t5\t5\t5\t3\t5\t4\t4\t3\t4\t5\t4\t5\t5\t5\t3\t3\t5\t5\t5\t2\t4\t4\t4\t4\t4\t5\t5\t3\t4\t5\t4\t5\t2\t5\t4\t5\t5\t5\t5\t5\t3\t5\t4\t5\t5\t5\t5\t4\t5\t5\t5\t3\t5\t4\t5\t4\t5\t5\t5\t4\t5\t5\t5\t4\t5\t4\t5\t3\t5\t3\t5\t5\t5\t5\t5\t5\t4\t5\t5\t5\t5\t4\t5\t5\t2\t4\t3\t5\t5\t4\t5\t5\t5\t5\t4\t5\t5\t5\t5\t4\t3\t5\t4\t5\t5\t4\t5\t4\t5\t2\t4\t5\t5\t5\t2\t4\t5\t4\t5\t4\t4\t4\t5\t5\t5\t5\t5\t5\t5\t5\t4\t5\t5\t5\t5\t5\t5\t5\t4\t5\t5\t5\t5\t5\t5\t5\t5\t5\t5\t5\t5\t4\t4\t5\t5\t5\t5\t4\t4\t5\t5\t5\t5\t5\t5\t5\t5\t5\t5\t5\t5\t5\t4\t5\t5\t5\t5\t5\t5\t5\t5\t5\t5\t5\t5\t5\t5\t5\t5\t5\t5\t4\t5\t5\t5\t5\t5\t5\t5\t5\t5\t5\t5\t5\t5\t4\t5\t5\t5\t5\t5\t3\t5\t5\t5\t5\t5\t5\t5\t4\t5\t5\t5\t5\t5\t5\t5\t5\t5\t5\t5\t3\t5\t5\t5\t5\t5\t5\t5\t5\t5\t5\t5\t5\t4\t4\t4\t4\t4\t4\t3\t4\t4\t4\t3\t4\t3\t3\t4\t5\t5\t4\t3\t4\t2\t2\t5\t5\t4\t4\t2\t4\t3\t3\t2\t4\t4\t2\t4\t3\t3\t2\t4\t5\t4\t4\t5\t5\t5\t2\t5\t4\t3\t3\t5\t5\t4\t1\t3\t4\t4\t4\t4\t4\t2\t2\t2\t3\t3\t3\t4\t3\t3\t5\t4\t3\t2\t3\t2\t2\t3\t2\t4\t2\t4\t3\t2\t5\t2\t3\t4\t5\t5\t4\t3\t5\t3\t2\t3\t3\t4\t3\t5\t5\t5\t2\t2\t4\t3\t2\t3\t1\t3\t2\t3\t5\t3\t3\t2\t3\t3\t3\t4\t2\t2\t3\t5\t3\t2\t4\t2\t3\t4\t3\t3\t2\t5\t4\t4\t5\t5\t2\t4\t2\t2\t2\t2\t4\t2\t2\t2\t2\t2\t2\t2\t3\t4\t2\t2\t4\t4\t3\t2\t2\",  # Michael\n",
    "    \"5\t5\t5\t5\t3\t4\t5\t4\t5\t5\t5\t5\t5\t5\t5\t5\t5\t5\t5\t2\t5\t5\t5\t4\t4\t5\t4\t5\t5\t5\t3\t4\t5\t5\t5\t5\t5\t4\t5\t5\t5\t5\t5\t4\t5\t5\t5\t5\t3\t5\t4\t5\t5\t5\t5\t5\t3\t5\t4\t5\t5\t5\t5\t5\t5\t5\t5\t5\t5\t4\t5\t5\t5\t5\t5\t4\t5\t5\t5\t5\t5\t5\t5\t4\t5\t4\t5\t5\t5\t5\t5\t5\t5\t5\t5\t5\t5\t4\t5\t5\t2\t5\t4\t5\t5\t5\t5\t5\t5\t5\t4\t5\t5\t5\t5\t5\t4\t5\t5\t4\t5\t3\t5\t4\t5\t5\t2\t5\t5\t5\t1\t3\t5\t4\t5\t3\t5\t4\t5\t5\t5\t5\t5\t5\t5\t5\t5\t4\t5\t5\t5\t5\t5\t5\t5\t5\t5\t5\t5\t5\t5\t5\t5\t5\t5\t5\t5\t4\t4\t5\t5\t5\t5\t4\t5\t5\t5\t5\t5\t5\t4\t5\t5\t4\t5\t5\t5\t5\t5\t5\t5\t5\t5\t5\t5\t5\t5\t5\t4\t5\t5\t5\t5\t4\t5\t5\t4\t5\t5\t5\t5\t5\t5\t5\t5\t5\t5\t5\t5\t5\t5\t4\t5\t5\t5\t5\t5\t4\t5\t5\t5\t5\t5\t5\t5\t4\t5\t5\t5\t4\t5\t5\t5\t5\t5\t5\t5\t3\t5\t5\t4\t5\t5\t5\t5\t5\t5\t5\t5\t5\t4\t5\t4\t4\t4\t4\t4\t4\t4\t4\t3\t4\t4\t4\t4\t5\t4\t4\t3\t4\t2\t2\t4\t5\t4\t4\t3\t4\t4\t4\t3\t2\t4\t2\t5\t3\t2\t2\t3\t4\t4\t3\t5\t5\t5\t3\t4\t3\t3\t4\t5\t5\t2\t2\t3\t3\t3\t3\t4\t4\t2\t2\t2\t2\t5\t3\t2\t3\t4\t3\t3\t3\t3\t3\t2\t3\t4\t2\t2\t2\t3\t4\t2\t5\t2\t3\t2\t5\t4\t4\t4\t3\t3\t2\t3\t4\t2\t2\t5\t4\t3\t2\t2\t3\t3\t2\t3\t2\t2\t2\t4\t4\t2\t3\t2\t3\t3\t4\t4\t2\t2\t3\t5\t2\t2\t3\t3\t3\t4\t3\t2\t2\t5\t3\t4\t2\t5\t2\t3\t4\t2\t2\t2\t5\t2\t5\t3\t2\t2\t2\t3\t4\t4\t1\t2\t4\t3\t3\t2\t2\",  # Govind\n",
    ")\n",
    "\n",
    "reliability_data = [[np.nan if v == \"*\" else int(v) for v in annotator.split()] for annotator in reliability_data_en]\n",
    "\n",
    "print(\"Krippendorff's alpha for ordinal metric: \", krippendorff.alpha(reliability_data=reliability_data,\n",
    "                                                                          level_of_measurement=\"ordinal\"))"
   ]
  },
  {
   "attachments": {},
   "cell_type": "markdown",
   "metadata": {},
   "source": [
    "## Urdu"
   ]
  },
  {
   "cell_type": "code",
   "execution_count": 11,
   "metadata": {},
   "outputs": [
    {
     "name": "stdout",
     "output_type": "stream",
     "text": [
      "Krippendorff's alpha for ordinal metric:  0.855167911339761\n"
     ]
    }
   ],
   "source": [
    "reliability_data_ur = (\n",
    "    \"5\t5\t4\t2\t4\t3\t1\t5\t5\t4\t1\t5\t1\t3\t5\t5\t5\t1\t5\t5\t3\t5\t1\t2\t5\t5\t5\t2\t4\t4\t5\t3\t5\t5\t4\t5\t5\t1\t5\t5\t5\t3\t5\t2\t2\t3\t4\t5\t5\t1\t5\t5\t1\t1\t2\t5\t5\t5\t2\t2\t1\t1\t4\t5\t5\t3\t1\t1\t5\t5\t1\t5\t5\t4\t5\t1\t1\t5\t5\t2\t5\t5\t5\t5\t2\t5\t5\t5\t5\t2\t5\t5\t3\t5\t2\t5\t5\t4\t5\t5\t5\t5\t5\t5\t5\t5\t1\t5\t5\t5\t5\t3\t5\t5\t4\t5\t4\t5\t5\t5\t5\t5\t3\t5\t2\t5\t2\t5\t5\t1\t1\t5\t5\t5\t1\t5\t5\t5\t3\t1\t5\t5\t5\t1\t5\t1\t1\t5\t5\t3\t1\t5\t1\t1\t5\t5\t5\t1\t5\t2\t1\t5\t1\t1\t5\t5\t5\t1\t5\t1\t5\t1\t1\t5\t2\t5\t5\t1\t5\t5\t5\t1\t5\t1\t1\t1\t2\t5\t5\t1\t5\t5\t1\t1\t1\t5\t5\t5\t1\t1\t1\t1\t1\t5\t5\t2\t1\t1\t5\t5\t1\t5\t3\t2\t5\t1\t1\t5\t5\t1\t5\t5\t5\t5\t5\t5\t5\t5\t5\t5\t5\t5\t5\t5\t5\t5\t5\t5\t5\t5\t5\t5\t5\t5\t5\t5\t5\t5\t5\t5\t5\t1\t5\t5\t5\t5\t5\t5\t5\t3\t5\t5\t2\t5\t1\t5\t1\t5\t5\t1\t1\t5\t5\t5\t1\t5\t5\t5\t1\t1\t5\t5\t5\t1\t3\t1\t1\t2\t1\t2\t1\t2\t1\t1\t5\t5\t5\t1\t5\t1\t1\t5\t1\t1\t1\t1\t1\t1\t2\t1\t2\t1\t1\t2\t1\t5\t5\t1\t5\t1\t5\t1\t5\t1\t1\t1\t1\t5\t5\t1\t5\t2\t1\t1\t1\t4\t4\t5\t1\t1\t1\t1\t1\t1\t4\t1\t1\t1\t1\t4\t1\t5\t1\t1\t5\t1\t1\t5\t1\t1\t1\t5\t2\t3\t2\t1\t1\t2\t5\t3\t4\t3\t4\t5\t2\t2\t1\t5\t1\t3\t1\t2\t5\t5\t5\t5\t2\t1\t2\t5\t5\t1\t2\t1\t2\t2\t3\t3\t3\t4\t2\t2\t1\t2\t1\t2\t1\t2\t2\t1\t1\t2\t2\t2\t1\t2\t2\t2\t1\t1\",  # Ann0\n",
    "    \"5\t4\t5\t2\t4\t1\t1\t5\t5\t3\t1\t5\t1\t3\t5\t5\t5\t3\t5\t3\t1\t5\t1\t2\t5\t5\t5\t2\t4\t1\t5\t2\t4\t5\t3\t4\t5\t1\t5\t5\t5\t1\t4\t1\t1\t1\t1\t4\t5\t1\t5\t5\t5\t2\t2\t5\t5\t5\t1\t1\t4\t4\t4\t5\t5\t2\t1\t1\t5\t5\t1\t4\t5\t3\t5\t1\t1\t5\t5\t1\t4\t5\t5\t5\t3\t5\t5\t5\t5\t3\t5\t5\t4\t5\t3\t5\t5\t5\t5\t4\t5\t5\t5\t5\t5\t5\t3\t5\t5\t5\t5\t4\t5\t5\t5\t5\t5\t5\t5\t5\t5\t5\t3\t5\t1\t5\t2\t5\t5\t1\t1\t5\t5\t5\t1\t5\t5\t5\t4\t1\t5\t5\t5\t2\t5\t2\t1\t5\t5\t3\t1\t5\t1\t2\t5\t5\t5\t3\t5\t3\t1\t5\t1\t3\t5\t5\t5\t3\t5\t2\t5\t4\t3\t5\t4\t5\t5\t2\t5\t5\t5\t2\t5\t2\t1\t1\t1\t5\t5\t1\t5\t5\t5\t3\t4\t5\t5\t5\t1\t1\t3\t3\t4\t5\t5\t3\t1\t1\t5\t5\t2\t5\t5\t4\t5\t3\t1\t5\t5\t1\t5\t5\t5\t5\t5\t5\t5\t5\t5\t5\t5\t5\t5\t5\t5\t5\t5\t5\t5\t5\t5\t5\t5\t5\t5\t5\t5\t5\t5\t5\t5\t4\t5\t5\t5\t5\t5\t5\t5\t4\t5\t5\t4\t5\t1\t5\t2\t5\t5\t1\t1\t5\t5\t5\t1\t5\t5\t5\t4\t1\t4\t5\t5\t1\t4\t1\t1\t4\t2\t1\t1\t2\t1\t1\t5\t5\t5\t1\t5\t1\t1\t5\t1\t1\t2\t2\t2\t1\t3\t1\t1\t1\t1\t5\t1\t5\t5\t1\t4\t4\t5\t1\t5\t1\t1\t1\t1\t5\t5\t1\t4\t5\t2\t1\t1\t5\t5\t5\t1\t1\t1\t1\t1\t2\t5\t1\t1\t1\t2\t5\t1\t4\t3\t2\t4\t1\t1\t5\t4\t1\t2\t4\t2\t4\t2\t5\t2\t2\t5\t4\t1\t1\t4\t5\t2\t2\t5\t5\t2\t4\t2\t2\t5\t5\t5\t5\t2\t2\t2\t5\t5\t1\t2\t5\t5\t5\t4\t4\t2\t4\t2\t2\t1\t2\t1\t2\t1\t2\t2\t1\t1\t2\t2\t2\t1\t2\t2\t2\t1\t1\",  # Ann1\n",
    ")\n",
    "\n",
    "reliability_data = [[np.nan if v == \"*\" else int(v) for v in annotator.split()] for annotator in reliability_data_ur]\n",
    "\n",
    "print(\"Krippendorff's alpha for ordinal metric: \", krippendorff.alpha(reliability_data=reliability_data,\n",
    "                                                                          level_of_measurement=\"ordinal\"))"
   ]
  },
  {
   "attachments": {},
   "cell_type": "markdown",
   "metadata": {},
   "source": [
    "## Russian"
   ]
  },
  {
   "cell_type": "code",
   "execution_count": 3,
   "metadata": {},
   "outputs": [
    {
     "name": "stdout",
     "output_type": "stream",
     "text": [
      "Krippendorff's alpha for ordinal metric:  0.7867057051420415\n"
     ]
    }
   ],
   "source": [
    "reliability_data_ru = (\n",
    "    \"4\t3\t5\t5\t5\t5\t5\t5\t5\t5\t5\t5\t5\t5\t5\t5\t5\t4\t5\t1\t5\t3\t5\t5\t5\t4\t2\t5\t4\t5\t1\t5\t1\t5\t5\t5\t3\t5\t4\t5\t2\t5\t5\t1\t5\t2\t1\t1\t5\t5\t1\t5\t5\t2\t5\t5\t5\t4\t5\t4\t5\t5\t5\t3\t5\t5\t5\t4\t5\t3\t5\t1\t5\t5\t4\t5\t5\t5\t1\t5\t5\t1\t1\t1\t5\t5\t4\t5\t5\t1\t5\t1\t1\t5\t5\t5\t5\t5\t4\t1\t3\t5\t2\t5\t5\t5\t5\t5\t5\t4\t5\t4\t5\t1\t1\t5\t5\t5\t3\t5\t5\t5\t5\t5\t4\t1\t5\t5\t5\t5\t5\t5\t1\t5\t5\t4\t5\t1\t5\t5\t4\t5\t5\t5\t5\t5\t5\t5\t5\t4\t5\t5\t5\t5\t5\t5\t5\t5\t5\t1\t5\t4\t5\t5\t4\t5\t5\t4\t5\t5\t1\t5\t5\t5\t5\t5\t5\t5\t5\t5\t2\t5\t5\t1\t5\t5\t1\t1\t5\t5\t1\t5\t5\t3\t5\t5\t5\t5\t5\t5\t5\t5\t5\t5\t5\t5\t5\t5\t5\t5\t5\t1\t5\t5\t5\t5\t5\t5\t1\t5\t5\t1\t4\t1\t5\t5\t4\t5\t5\t5\t5\t1\t1\t5\t5\t5\t4\t5\t5\t1\t4\t5\t5\t5\t5\t5\t5\t5\t5\t5\t5\t5\t5\t1\t1\t5\t5\t5\t4\t5\t5\t5\t5\t5\t5\t5\t5\t5\t5\t5\t5\t4\t1\t5\t5\t4\t5\t1\t5\t5\t2\t4\t2\t4\t2\t2\t2\t2\t2\t2\t4\t5\t2\t2\t2\t2\t2\t2\t2\t1\t2\t3\t4\t2\t2\t2\t3\t2\t2\t4\t1\t2\t3\t2\t2\t2\t3\t2\t3\t2\t2\t2\t2\t1\t4\t3\t1\t1\t2\t4\t1\t4\t2\t3\t2\t4\t2\t2\t2\t4\t2\t3\t2\t3\t2\t2\t2\t2\t2\t3\t4\t1\t2\t3\t3\t3\t2\t2\t1\t2\t2\t1\t3\t1\t2\t3\t4\t2\t4\t1\t2\t1\t1\t2\t2\t2\t3\t2\t4\t1\t3\t2\t3\t2\t4\t2\t2\t2\t3\t4\t2\t3\t2\t1\t1\t4\t4\t2\t2\t5\t3\t4\t2\t4\t4\t3\t2\t2\t2\t4\t2\t2\t1\t2\t4\t2\t4\t1\t4\t3\",  # Anton\n",
    "    \"3\t3\t5\t5\t5\t5\t5\t5\t5\t5\t4\t5\t5\t5\t5\t5\t5\t2\t5\t2\t5\t2\t5\t5\t5\t3\t3\t5\t4\t5\t1\t5\t3\t5\t5\t5\t1\t5\t2\t5\t2\t5\t5\t4\t5\t3\t1\t1\t5\t5\t4\t1\t5\t3\t5\t1\t5\t1\t5\t1\t5\t4\t5\t1\t5\t5\t5\t4\t5\t3\t2\t2\t2\t5\t3\t5\t5\t5\t3\t5\t5\t5\t1\t5\t5\t5\t4\t5\t5\t1\t5\t3\t4\t5\t5\t5\t4\t5\t5\t1\t1\t5\t1\t5\t4\t5\t5\t5\t5\t4\t5\t5\t5\t5\t1\t5\t5\t5\t3\t4\t5\t5\t5\t5\t5\t3\t5\t5\t5\t5\t5\t5\t5\t5\t5\t4\t3\t4\t5\t5\t4\t4\t5\t2\t5\t5\t2\t5\t5\t5\t2\t5\t5\t5\t5\t5\t5\t5\t5\t4\t5\t5\t2\t5\t5\t2\t5\t5\t5\t5\t1\t2\t5\t5\t5\t5\t5\t5\t2\t5\t4\t5\t5\t2\t5\t5\t2\t2\t5\t5\t1\t5\t5\t5\t5\t5\t5\t1\t5\t2\t5\t5\t5\t4\t5\t5\t5\t5\t5\t5\t5\t1\t5\t5\t5\t5\t5\t5\t2\t5\t5\t1\t1\t1\t5\t5\t3\t5\t5\t5\t5\t1\t4\t5\t5\t5\t4\t5\t5\t1\t5\t5\t5\t5\t5\t5\t5\t5\t5\t5\t5\t5\t5\t1\t3\t5\t5\t5\t5\t5\t5\t5\t5\t5\t5\t5\t5\t5\t5\t5\t5\t5\t1\t5\t5\t5\t5\t1\t5\t5\t3\t3\t2\t2\t2\t2\t2\t2\t2\t2\t3\t4\t2\t2\t2\t2\t2\t2\t2\t2\t2\t4\t2\t2\t2\t2\t5\t2\t3\t2\t1\t2\t4\t2\t2\t2\t4\t2\t1\t2\t2\t2\t2\t1\t4\t3\t1\t1\t2\t2\t1\t3\t2\t3\t2\t3\t2\t1\t2\t3\t2\t3\t2\t3\t2\t2\t2\t3\t2\t3\t2\t1\t2\t2\t3\t2\t2\t2\t1\t2\t2\t1\t1\t1\t2\t2\t4\t2\t2\t2\t2\t1\t2\t2\t2\t2\t2\t2\t2\t1\t2\t2\t3\t2\t2\t2\t2\t2\t2\t2\t2\t2\t2\t1\t1\t2\t2\t2\t3\t2\t2\t2\t2\t2\t2\t3\t2\t2\t2\t2\t2\t2\t1\t2\t2\t2\t3\t1\t2\t2\",  # Leah\n",
    ")\n",
    "\n",
    "reliability_data = [[np.nan if v == \"*\" else int(v) for v in annotator.split()] for annotator in reliability_data_ru]\n",
    "\n",
    "print(\"Krippendorff's alpha for ordinal metric: \", krippendorff.alpha(reliability_data=reliability_data,\n",
    "                                                                          level_of_measurement=\"ordinal\"))"
   ]
  },
  {
   "attachments": {},
   "cell_type": "markdown",
   "metadata": {},
   "source": [
    "## Italian"
   ]
  },
  {
   "cell_type": "code",
   "execution_count": 4,
   "metadata": {},
   "outputs": [
    {
     "name": "stdout",
     "output_type": "stream",
     "text": [
      "Krippendorff's alpha for ordinal metric:  0.7458993397230081\n"
     ]
    }
   ],
   "source": [
    "reliability_data_it = (\n",
    "    \"1\t1\t5\t5\t4\t5\t5\t5\t5\t5\t5\t5\t4\t1\t5\t5\t1\t1\t1\t1\t5\t1\t5\t5\t4\t4\t4\t2\t5\t1\t4\t4\t3\t5\t1\t5\t5\t5\t1\t1\t5\t5\t5\t5\t5\t4\t5\t5\t3\t5\t5\t3\t5\t5\t1\t5\t5\t5\t1\t5\t5\t1\t1\t5\t4\t1\t5\t5\t5\t2\t5\t1\t5\t5\t5\t4\t3\t1\t1\t1\t1\t1\t3\t5\t5\t5\t1\t1\t5\t5\t5\t5\t5\t5\t1\t5\t5\t5\t4\t1\t5\t4\t5\t5\t1\t5\t5\t5\t5\t1\t4\t5\t2\t5\t1\t5\t1\t5\t5\t5\t5\t5\t4\t5\t5\t5\t4\t4\t5\t4\t4\t4\t5\t5\t5\t5\t5\t4\t5\t5\t5\t5\t5\t5\t5\t4\t5\t5\t5\t5\t3\t5\t5\t5\t4\t4\t4\t5\t4\t5\t1\t1\t5\t4\t4\t5\t4\t5\t5\t5\t5\t5\t4\t1\t5\t5\t1\t1\t1\t1\t5\t1\t4\t5\t5\t5\t5\t2\t5\t1\t4\t4\t4\t5\t1\t5\t5\t5\t1\t1\t5\t5\t5\t5\t5\t5\t5\t5\t5\t5\t5\t5\t5\t5\t1\t5\t5\t5\t1\t5\t5\t1\t1\t5\t4\t1\t5\t5\t5\t3\t5\t1\t5\t4\t5\t5\t3\t1\t1\t1\t1\t1\t4\t5\t5\t5\t1\t1\t5\t5\t5\t5\t5\t5\t1\t5\t5\t5\t5\t1\t5\t5\t5\t5\t1\t5\t5\t5\t5\t1\t4\t5\t2\t4\t1\t5\t1\t4\t5\t5\t4\t5\t5\t5\t5\t5\t5\t4\t5\t4\t4\t3\t5\t5\t5\t4\t5\t4\t5\t5\t5\t4\t5\t5\t5\t5\t5\t5\t5\t5\t5\t5\t5\t5\t5\t4\t5\t5\t4\t5\t1\t1\t2\t2\t4\t2\t2\t2\t2\t2\t5\t2\t3\t1\t4\t2\t1\t1\t1\t1\t2\t1\t2\t2\t2\t2\t2\t1\t4\t1\t2\t2\t1\t2\t1\t2\t2\t4\t1\t1\t4\t2\t4\t4\t3\t2\t1\t1\t2\t4\t2\t4\t3\t2\t1\t3\t3\t2\t1\t2\t2\t1\t1\t3\t2\t1\t2\t2\t2\t2\t2\t1\t2\t2\t2\t2\t1\t1\t1\t1\t1\t1\t4\t4\t4\t3\t1\t1\t3\t2\t2\t3\t2\t2\t1\t2\t1\t1\t4\t1\t4\t3\t4\t2\t1\t2\t2\t2\t2\t1\t1\t2\t1\t2\t1\t2\t1\t2\t2\t2\t3\t2\t3\t2\t2\t2\t1\t1\t3\t2\t1\t2\t2\t2\t2\t3\t2\t2\t2\t2\t2\t2\t2\t2\t2\t2\t2\t2\t2\t2\t2\t2\t2\t2\t2\t2\t2\t3\t2\t2\",  # Luca\n",
    "    \"1\t1\t5\t5\t4\t5\t4\t5\t4\t4\t3\t5\t1\t1\t5\t5\t1\t1\t1\t1\t5\t1\t5\t5\t5\t5\t1\t1\t5\t1\t4\t5\t5\t5\t1\t5\t4\t3\t2\t1\t5\t5\t4\t5\t4\t1\t4\t4\t1\t5\t5\t1\t5\t5\t1\t1\t4\t5\t1\t5\t5\t1\t1\t1\t5\t1\t5\t5\t5\t1\t5\t1\t5\t5\t5\t1\t1\t1\t1\t1\t1\t1\t1\t5\t2\t5\t1\t1\t4\t5\t5\t4\t5\t5\t1\t5\t4\t3\t5\t1\t3\t5\t3\t5\t1\t5\t5\t5\t5\t1\t3\t5\t1\t5\t1\t5\t1\t4\t5\t5\t4\t5\t5\t5\t5\t5\t4\t4\t2\t2\t4\t5\t5\t5\t5\t4\t4\t3\t5\t5\t2\t5\t5\t5\t2\t4\t4\t5\t5\t2\t2\t1\t5\t2\t2\t1\t2\t5\t4\t5\t1\t1\t5\t5\t1\t5\t5\t5\t5\t5\t5\t5\t1\t1\t5\t5\t1\t1\t1\t1\t5\t1\t5\t5\t4\t4\t2\t2\t5\t1\t4\t2\t5\t5\t1\t5\t5\t5\t1\t1\t5\t5\t5\t5\t5\t2\t5\t5\t4\t5\t5\t5\t5\t5\t1\t1\t5\t5\t1\t5\t5\t1\t1\t2\t4\t1\t5\t5\t5\t1\t5\t1\t5\t5\t5\t5\t5\t1\t1\t1\t1\t1\t1\t5\t5\t5\t1\t1\t5\t5\t5\t5\t5\t5\t1\t5\t5\t4\t5\t1\t5\t5\t5\t5\t1\t5\t5\t4\t4\t1\t5\t5\t1\t5\t1\t5\t1\t4\t5\t5\t4\t5\t3\t4\t4\t5\t5\t5\t5\t5\t5\t4\t5\t5\t5\t5\t5\t5\t5\t4\t4\t5\t5\t5\t3\t5\t4\t5\t5\t1\t5\t3\t5\t5\t5\t2\t5\t5\t3\t5\t1\t1\t2\t2\t1\t2\t2\t2\t2\t1\t4\t2\t1\t1\t4\t2\t1\t1\t1\t1\t2\t1\t5\t2\t2\t2\t1\t1\t2\t1\t2\t3\t5\t2\t1\t2\t5\t5\t1\t1\t5\t2\t3\t5\t4\t1\t1\t5\t1\t5\t2\t3\t5\t2\t1\t1\t2\t2\t1\t2\t2\t1\t1\t3\t2\t1\t2\t5\t2\t1\t2\t1\t2\t5\t1\t2\t2\t1\t1\t1\t1\t1\t1\t4\t1\t2\t1\t1\t4\t2\t2\t4\t2\t2\t1\t2\t2\t5\t2\t1\t5\t2\t5\t2\t1\t2\t2\t2\t4\t1\t5\t4\t1\t2\t1\t2\t1\t5\t2\t2\t2\t2\t5\t2\t4\t4\t4\t5\t2\t4\t5\t4\t2\t2\t2\t1\t2\t4\t2\t2\t1\t2\t4\t5\t3\t5\t1\t2\t2\t1\t3\t2\t2\t4\t2\t1\t3\t5\t3\t5\",  # Lory\n",
    ")\n",
    "\n",
    "reliability_data = [[np.nan if v == \"*\" else int(v) for v in annotator.split()] for annotator in reliability_data_it]\n",
    "\n",
    "print(\"Krippendorff's alpha for ordinal metric: \", krippendorff.alpha(reliability_data=reliability_data,\n",
    "                                                                          level_of_measurement=\"ordinal\"))"
   ]
  }
 ],
 "metadata": {
  "kernelspec": {
   "display_name": "mlts",
   "language": "python",
   "name": "python3"
  },
  "language_info": {
   "codemirror_mode": {
    "name": "ipython",
    "version": 3
   },
   "file_extension": ".py",
   "mimetype": "text/x-python",
   "name": "python",
   "nbconvert_exporter": "python",
   "pygments_lexer": "ipython3",
   "version": "3.10.8"
  },
  "orig_nbformat": 4
 },
 "nbformat": 4,
 "nbformat_minor": 2
}
