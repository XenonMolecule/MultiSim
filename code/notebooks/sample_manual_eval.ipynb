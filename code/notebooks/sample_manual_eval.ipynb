{
 "cells": [
  {
   "cell_type": "code",
   "execution_count": 1,
   "metadata": {},
   "outputs": [],
   "source": [
    "import pandas as pd\n",
    "import numpy as np"
   ]
  },
  {
   "cell_type": "code",
   "execution_count": 2,
   "metadata": {},
   "outputs": [],
   "source": [
    "K=20"
   ]
  },
  {
   "cell_type": "code",
   "execution_count": 3,
   "metadata": {},
   "outputs": [],
   "source": [
    "def sample_originals(test_set_path, output_path):\n",
    "    path = test_set_path\n",
    "\n",
    "    test_set = pd.read_csv(path)\n",
    "    indices = np.arange(0, test_set.shape[0])\n",
    "    np.random.shuffle(indices)\n",
    "    indices = indices[0:min(K, test_set.shape[0])]\n",
    "\n",
    "    sampled = test_set.iloc[indices]\n",
    "    sampled['original'].to_csv(output_path, index=False)"
   ]
  },
  {
   "cell_type": "code",
   "execution_count": 60,
   "metadata": {},
   "outputs": [],
   "source": [
    "sample_originals(\"../data/Russian/RuAdapt Literature_test.csv\", \"../../manual-eval/Russian/original.csv\")"
   ]
  },
  {
   "cell_type": "code",
   "execution_count": 4,
   "metadata": {},
   "outputs": [],
   "source": [
    "def collect_samples(orig_path, sample_path, header, output_path):\n",
    "    originals = pd.read_csv(orig_path)\n",
    "    test_set = pd.read_csv(sample_path)\n",
    "\n",
    "    int_df = pd.merge(originals, test_set, how ='inner', on =['original', 'original'])\n",
    "\n",
    "    int_df[header].to_csv(output_path, index=False)"
   ]
  },
  {
   "cell_type": "code",
   "execution_count": 11,
   "metadata": {},
   "outputs": [],
   "source": [
    "language = \"Russian\"\n",
    "# collect_samples(\"../../manual-eval-access/\" + language + \"/original.csv\", \"../data/Russian/RuAdapt Literature_test.csv\", 'simple', \"../../manual-eval-access/\" + language + \"/reference.csv\")\n",
    "# collect_samples(\"../../manual-eval-access/\" + language + \"/original.csv\", \"../../finetune-outputs-access/single/RuAdaptLit/ruadaptlit.csv\", 'mt5 output', \"../../manual-eval-access/\" + language + \"/mt5-single.csv\")\n",
    "# collect_samples(\"../../manual-eval-access/\" + language + \"/original.csv\", \"../../finetune-outputs-access/language/Russian/ruadaptlit.csv\", 'mt5 output', \"../../manual-eval-access/\" + language + \"/mt5-language.csv\")\n",
    "# collect_samples(\"../../manual-eval-access/\" + language + \"/original.csv\", \"../../finetune-outputs-access/joint/ruadaptlit.csv\", 'mt5 output', \"../../manual-eval-access/\" + language + \"/mt5-joint.csv\")\n",
    "# collect_samples(\"../../manual-eval-access/\" + language + \"/original.csv\", \"../../finetune-outputs-access/single/RuAdaptLit/simplifyur.csv\", 'mt5 output', \"../../manual-eval-access/\" + language + \"/mt5-russian.csv\")\n",
    "# collect_samples(\"../../manual-eval-access/\" + language + \"/original.csv\", \"../../finetune-outputs-access/language/English/ruadaptlit.csv\", 'mt5 output', \"../../manual-eval-access/\" + language + \"/mt5-english.csv\")\n",
    "# collect_samples(\"../../manual-eval-access/\" + language + \"/original.csv\", \"../../fewshot-outputs-access/Terence/5.rand.csv\", 'fewshot output', \"../../manual-eval-access/\" + language + \"/5.rand-fewshot.csv\")"
   ]
  }
 ],
 "metadata": {
  "kernelspec": {
   "display_name": "mlts",
   "language": "python",
   "name": "python3"
  },
  "language_info": {
   "codemirror_mode": {
    "name": "ipython",
    "version": 3
   },
   "file_extension": ".py",
   "mimetype": "text/x-python",
   "name": "python",
   "nbconvert_exporter": "python",
   "pygments_lexer": "ipython3",
   "version": "3.10.8"
  },
  "orig_nbformat": 4,
  "vscode": {
   "interpreter": {
    "hash": "ca18bd5681216905704c89b7035c68c533f197e11f52b5f3035c7182103b2886"
   }
  }
 },
 "nbformat": 4,
 "nbformat_minor": 2
}
