{
 "cells": [
  {
   "cell_type": "code",
   "execution_count": 5,
   "metadata": {},
   "outputs": [
    {
     "data": {
      "text/html": [
       "<div>\n",
       "<style scoped>\n",
       "    .dataframe tbody tr th:only-of-type {\n",
       "        vertical-align: middle;\n",
       "    }\n",
       "\n",
       "    .dataframe tbody tr th {\n",
       "        vertical-align: top;\n",
       "    }\n",
       "\n",
       "    .dataframe thead th {\n",
       "        text-align: right;\n",
       "    }\n",
       "</style>\n",
       "<table border=\"1\" class=\"dataframe\">\n",
       "  <thead>\n",
       "    <tr style=\"text-align: right;\">\n",
       "      <th></th>\n",
       "      <th>original</th>\n",
       "      <th>simple</th>\n",
       "    </tr>\n",
       "  </thead>\n",
       "  <tbody>\n",
       "    <tr>\n",
       "      <th>0</th>\n",
       "      <td>Celestus microblepharis is a species of lizard...</td>\n",
       "      <td>Celestus microblepharis is a type of lizard in...</td>\n",
       "    </tr>\n",
       "    <tr>\n",
       "      <th>1</th>\n",
       "      <td>However, admirals have always needed additiona...</td>\n",
       "      <td>Admirals always needed more space; a  large me...</td>\n",
       "    </tr>\n",
       "    <tr>\n",
       "      <th>2</th>\n",
       "      <td>When Bonham Carter was just five, her mother h...</td>\n",
       "      <td>Bonham Carters mother had a three year long ne...</td>\n",
       "    </tr>\n",
       "    <tr>\n",
       "      <th>3</th>\n",
       "      <td>Such is in addition, in the coats of arms of s...</td>\n",
       "      <td>this is part of the coats of arms for neighbor...</td>\n",
       "    </tr>\n",
       "    <tr>\n",
       "      <th>4</th>\n",
       "      <td>The new government in 1816 created the distric...</td>\n",
       "      <td>The new government in 1816 created the areas S...</td>\n",
       "    </tr>\n",
       "  </tbody>\n",
       "</table>\n",
       "</div>"
      ],
      "text/plain": [
       "                                            original  \\\n",
       "0  Celestus microblepharis is a species of lizard...   \n",
       "1  However, admirals have always needed additiona...   \n",
       "2  When Bonham Carter was just five, her mother h...   \n",
       "3  Such is in addition, in the coats of arms of s...   \n",
       "4  The new government in 1816 created the distric...   \n",
       "\n",
       "                                              simple  \n",
       "0  Celestus microblepharis is a type of lizard in...  \n",
       "1  Admirals always needed more space; a  large me...  \n",
       "2  Bonham Carters mother had a three year long ne...  \n",
       "3  this is part of the coats of arms for neighbor...  \n",
       "4  The new government in 1816 created the areas S...  "
      ]
     },
     "execution_count": 5,
     "metadata": {},
     "output_type": "execute_result"
    }
   ],
   "source": [
    "import pandas as pd\n",
    "import numpy as np\n",
    "\n",
    "input = \"../data/English/ASSET_train.csv\"\n",
    "\n",
    "df = pd.read_csv(input)\n",
    "df.head(5)"
   ]
  },
  {
   "cell_type": "code",
   "execution_count": 6,
   "metadata": {},
   "outputs": [],
   "source": [
    "with open(\"./laser_embeddings/ASSET_train.txt\", 'w') as f:\n",
    "    for txt in df['original']:\n",
    "        f.write(txt + '\\n')\n"
   ]
  },
  {
   "cell_type": "code",
   "execution_count": 3,
   "metadata": {},
   "outputs": [
    {
     "name": "stdout",
     "output_type": "stream",
     "text": [
      "env: LASER=../../../LASER\n"
     ]
    }
   ],
   "source": [
    "%env LASER=../../../LASER"
   ]
  },
  {
   "cell_type": "code",
   "execution_count": 7,
   "metadata": {},
   "outputs": [
    {
     "name": "stdout",
     "output_type": "stream",
     "text": [
      "2022-12-23 17:34:51,484 | INFO | fairseq.tasks.text_to_speech | Please install tensorboardX: pip install tensorboardX\n",
      "2022-12-23 17:34:51,539 | INFO | embed | spm_model: /Users/michaelryan/Documents/School/GeorgiaTech/Research/LASER/nllb/laser2.spm\n",
      "2022-12-23 17:34:51,539 | INFO | embed | spm_cvocab: /Users/michaelryan/Documents/School/GeorgiaTech/Research/LASER/nllb/laser2.cvocab\n",
      "2022-12-23 17:34:51,539 | INFO | embed | loading encoder: /Users/michaelryan/Documents/School/GeorgiaTech/Research/LASER/nllb/laser2.pt\n",
      "2022-12-23 17:34:51,817 | INFO | preprocess | SPM processing ASSET_train.txt  \n",
      "2022-12-23 17:34:52,210 | INFO | embed | encoding /var/folders/zy/zlsw34jx4zn2cv4tn33_02nh0000gn/T/tmp3ww2w8_c/spm to ./laser_embeddings/ASSET_train.bin\n",
      "2022-12-23 17:35:44,412 | INFO | embed | encoded 10000 sentences\n",
      "2022-12-23 17:36:35,304 | INFO | embed | encoded 20000 sentences\n",
      "2022-12-23 17:36:35,304 | INFO | embed | encoded 20000 sentences in 103s\n"
     ]
    }
   ],
   "source": [
    "# !bash ../../../LASER/tasks/embed/embed.sh ./laser_embeddings/simplifyUR_test.txt ./laser_embeddings/simplifyUR_test.bin urd_Arab\n",
    "!bash ../../../LASER/tasks/embed/embed.sh ./laser_embeddings/ASSET_train.txt ./laser_embeddings/ASSET_train.bin"
   ]
  },
  {
   "cell_type": "code",
   "execution_count": 149,
   "metadata": {},
   "outputs": [],
   "source": [
    "dim = 1024\n",
    "\n",
    "train_embeddings = np.fromfile(\"./laser_embeddings/SimplifyUR_train.bin\", dtype=np.float32, count=-1)                                                                          \n",
    "train_embeddings.resize(train_embeddings.shape[0] // dim, dim)\n",
    "\n",
    "test_embeddings = np.fromfile(\"./laser_embeddings/SimplifyUR_test.bin\", dtype=np.float32, count=-1)                                                                          \n",
    "test_embeddings.resize(test_embeddings.shape[0] // dim, dim)"
   ]
  },
  {
   "cell_type": "code",
   "execution_count": 150,
   "metadata": {},
   "outputs": [
    {
     "data": {
      "text/html": [
       "<style>#sk-container-id-2 {color: black;background-color: white;}#sk-container-id-2 pre{padding: 0;}#sk-container-id-2 div.sk-toggleable {background-color: white;}#sk-container-id-2 label.sk-toggleable__label {cursor: pointer;display: block;width: 100%;margin-bottom: 0;padding: 0.3em;box-sizing: border-box;text-align: center;}#sk-container-id-2 label.sk-toggleable__label-arrow:before {content: \"▸\";float: left;margin-right: 0.25em;color: #696969;}#sk-container-id-2 label.sk-toggleable__label-arrow:hover:before {color: black;}#sk-container-id-2 div.sk-estimator:hover label.sk-toggleable__label-arrow:before {color: black;}#sk-container-id-2 div.sk-toggleable__content {max-height: 0;max-width: 0;overflow: hidden;text-align: left;background-color: #f0f8ff;}#sk-container-id-2 div.sk-toggleable__content pre {margin: 0.2em;color: black;border-radius: 0.25em;background-color: #f0f8ff;}#sk-container-id-2 input.sk-toggleable__control:checked~div.sk-toggleable__content {max-height: 200px;max-width: 100%;overflow: auto;}#sk-container-id-2 input.sk-toggleable__control:checked~label.sk-toggleable__label-arrow:before {content: \"▾\";}#sk-container-id-2 div.sk-estimator input.sk-toggleable__control:checked~label.sk-toggleable__label {background-color: #d4ebff;}#sk-container-id-2 div.sk-label input.sk-toggleable__control:checked~label.sk-toggleable__label {background-color: #d4ebff;}#sk-container-id-2 input.sk-hidden--visually {border: 0;clip: rect(1px 1px 1px 1px);clip: rect(1px, 1px, 1px, 1px);height: 1px;margin: -1px;overflow: hidden;padding: 0;position: absolute;width: 1px;}#sk-container-id-2 div.sk-estimator {font-family: monospace;background-color: #f0f8ff;border: 1px dotted black;border-radius: 0.25em;box-sizing: border-box;margin-bottom: 0.5em;}#sk-container-id-2 div.sk-estimator:hover {background-color: #d4ebff;}#sk-container-id-2 div.sk-parallel-item::after {content: \"\";width: 100%;border-bottom: 1px solid gray;flex-grow: 1;}#sk-container-id-2 div.sk-label:hover label.sk-toggleable__label {background-color: #d4ebff;}#sk-container-id-2 div.sk-serial::before {content: \"\";position: absolute;border-left: 1px solid gray;box-sizing: border-box;top: 0;bottom: 0;left: 50%;z-index: 0;}#sk-container-id-2 div.sk-serial {display: flex;flex-direction: column;align-items: center;background-color: white;padding-right: 0.2em;padding-left: 0.2em;position: relative;}#sk-container-id-2 div.sk-item {position: relative;z-index: 1;}#sk-container-id-2 div.sk-parallel {display: flex;align-items: stretch;justify-content: center;background-color: white;position: relative;}#sk-container-id-2 div.sk-item::before, #sk-container-id-2 div.sk-parallel-item::before {content: \"\";position: absolute;border-left: 1px solid gray;box-sizing: border-box;top: 0;bottom: 0;left: 50%;z-index: -1;}#sk-container-id-2 div.sk-parallel-item {display: flex;flex-direction: column;z-index: 1;position: relative;background-color: white;}#sk-container-id-2 div.sk-parallel-item:first-child::after {align-self: flex-end;width: 50%;}#sk-container-id-2 div.sk-parallel-item:last-child::after {align-self: flex-start;width: 50%;}#sk-container-id-2 div.sk-parallel-item:only-child::after {width: 0;}#sk-container-id-2 div.sk-dashed-wrapped {border: 1px dashed gray;margin: 0 0.4em 0.5em 0.4em;box-sizing: border-box;padding-bottom: 0.4em;background-color: white;}#sk-container-id-2 div.sk-label label {font-family: monospace;font-weight: bold;display: inline-block;line-height: 1.2em;}#sk-container-id-2 div.sk-label-container {text-align: center;}#sk-container-id-2 div.sk-container {/* jupyter's `normalize.less` sets `[hidden] { display: none; }` but bootstrap.min.css set `[hidden] { display: none !important; }` so we also need the `!important` here to be able to override the default hidden behavior on the sphinx rendered scikit-learn.org. See: https://github.com/scikit-learn/scikit-learn/issues/21755 */display: inline-block !important;position: relative;}#sk-container-id-2 div.sk-text-repr-fallback {display: none;}</style><div id=\"sk-container-id-2\" class=\"sk-top-container\"><div class=\"sk-text-repr-fallback\"><pre>NearestNeighbors(algorithm=&#x27;brute&#x27;, metric=&#x27;cosine&#x27;, n_jobs=-1, n_neighbors=500)</pre><b>In a Jupyter environment, please rerun this cell to show the HTML representation or trust the notebook. <br />On GitHub, the HTML representation is unable to render, please try loading this page with nbviewer.org.</b></div><div class=\"sk-container\" hidden><div class=\"sk-item\"><div class=\"sk-estimator sk-toggleable\"><input class=\"sk-toggleable__control sk-hidden--visually\" id=\"sk-estimator-id-2\" type=\"checkbox\" checked><label for=\"sk-estimator-id-2\" class=\"sk-toggleable__label sk-toggleable__label-arrow\">NearestNeighbors</label><div class=\"sk-toggleable__content\"><pre>NearestNeighbors(algorithm=&#x27;brute&#x27;, metric=&#x27;cosine&#x27;, n_jobs=-1, n_neighbors=500)</pre></div></div></div></div></div>"
      ],
      "text/plain": [
       "NearestNeighbors(algorithm='brute', metric='cosine', n_jobs=-1, n_neighbors=500)"
      ]
     },
     "execution_count": 150,
     "metadata": {},
     "output_type": "execute_result"
    }
   ],
   "source": [
    "from sklearn.neighbors import NearestNeighbors\n",
    "\n",
    "K=500\n",
    "\n",
    "model = NearestNeighbors(n_neighbors=K,\n",
    "                         metric='cosine',\n",
    "                         algorithm='brute',\n",
    "                         n_jobs=-1)\n",
    "model.fit(train_embeddings)"
   ]
  },
  {
   "cell_type": "code",
   "execution_count": 151,
   "metadata": {},
   "outputs": [],
   "source": [
    "closest_neighbors = model.kneighbors(test_embeddings, return_distance=False)"
   ]
  },
  {
   "cell_type": "code",
   "execution_count": 152,
   "metadata": {},
   "outputs": [
    {
     "data": {
      "text/plain": [
       "array([[335, 156, 189, ..., 245, 375, 376],\n",
       "       [382, 381,  90, ..., 120,  46, 489],\n",
       "       [269, 219,  25, ..., 263,  93, 345],\n",
       "       ...,\n",
       "       [189, 208, 158, ..., 413, 494, 333],\n",
       "       [433,  75, 392, ..., 497, 496, 345],\n",
       "       [ 98, 563, 562, ..., 319, 320, 418]])"
      ]
     },
     "execution_count": 152,
     "metadata": {},
     "output_type": "execute_result"
    }
   ],
   "source": [
    "closest_neighbors"
   ]
  },
  {
   "cell_type": "code",
   "execution_count": 153,
   "metadata": {},
   "outputs": [],
   "source": [
    "A = train_embeddings[closest_neighbors, :]\n",
    "B = test_embeddings\n",
    "\n",
    "dot_product = np.dot(A, B.T).diagonal(0,0,2).T\n",
    "\n",
    "# Compute the L2 norm of the vectors in A and B\n",
    "norm_A = np.linalg.norm(A, axis=2)\n",
    "norm_B = np.linalg.norm(B, axis=1)\n",
    "\n",
    "# Compute the cosine distance between each pair of vectors using broadcasting\n",
    "cosine_distances = 1 - (dot_product / (norm_A.T * norm_B).T)"
   ]
  },
  {
   "cell_type": "code",
   "execution_count": 156,
   "metadata": {},
   "outputs": [],
   "source": [
    "pd.DataFrame(closest_neighbors).to_csv(\"./few_shot_preprocessing/SimplifyUR_sim_experiment.csv\")"
   ]
  },
  {
   "cell_type": "code",
   "execution_count": 157,
   "metadata": {},
   "outputs": [],
   "source": [
    "pd.DataFrame(cosine_distances).to_csv(\"./few_shot_preprocessing/SimplifyUR_sim_experiment_dist.csv\")"
   ]
  },
  {
   "cell_type": "code",
   "execution_count": 148,
   "metadata": {},
   "outputs": [
    {
     "name": "stdout",
     "output_type": "stream",
     "text": [
      "(359, 20)\n",
      "[[16552  4208 14108 ... 17468  7609  3436]\n",
      " [ 3275  7358 12997 ...  9352 13374 19296]\n",
      " [ 7848 16277  6437 ...  1672 10881  4506]\n",
      " ...\n",
      " [ 4317  1813  7805 ... 13294  8290 18498]\n",
      " [ 4960  1819 13176 ...  6402  2728 14712]\n",
      " [ 5282  3163  9330 ... 11535 16648 17087]]\n"
     ]
    }
   ],
   "source": [
    "from numpy.random import default_rng\n",
    "\n",
    "rng = np.random.default_rng(3600)\n",
    "\n",
    "print(closest_neighbors.shape)\n",
    "random_neighbors = rng.integers(low=0, high=train_embeddings.shape[0], size=(test_embeddings.shape[0], K))\n",
    "print(random_neighbors)"
   ]
  },
  {
   "cell_type": "code",
   "execution_count": 165,
   "metadata": {},
   "outputs": [],
   "source": [
    "def find_average_distance(distances, k=3, offset=0):\n",
    "    return np.average(np.average(distances[:,offset:offset+k], axis=1))"
   ]
  },
  {
   "cell_type": "code",
   "execution_count": 168,
   "metadata": {},
   "outputs": [
    {
     "name": "stdout",
     "output_type": "stream",
     "text": [
      "0.26151112\n"
     ]
    }
   ],
   "source": [
    "find_average_distance(cosine_distances, k=5, offset=0)"
   ]
  }
 ],
 "metadata": {
  "kernelspec": {
   "display_name": "mlts",
   "language": "python",
   "name": "python3"
  },
  "language_info": {
   "codemirror_mode": {
    "name": "ipython",
    "version": 3
   },
   "file_extension": ".py",
   "mimetype": "text/x-python",
   "name": "python",
   "nbconvert_exporter": "python",
   "pygments_lexer": "ipython3",
   "version": "3.10.8"
  },
  "orig_nbformat": 4,
  "vscode": {
   "interpreter": {
    "hash": "ca18bd5681216905704c89b7035c68c533f197e11f52b5f3035c7182103b2886"
   }
  }
 },
 "nbformat": 4,
 "nbformat_minor": 2
}
